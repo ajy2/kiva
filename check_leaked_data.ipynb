{
 "cells": [
  {
   "cell_type": "code",
   "execution_count": null,
   "id": "compound-baseball",
   "metadata": {
    "scrolled": true
   },
   "outputs": [],
   "source": [
    "import os\n",
    "\n",
    "path=\"./loan\"\n",
    "file_list = os.listdir(path)"
   ]
  },
  {
   "cell_type": "code",
   "execution_count": null,
   "id": "upper-deposit",
   "metadata": {
    "scrolled": true
   },
   "outputs": [],
   "source": [
    "temp=[]\n",
    "for i in file_list:\n",
    "    number=(i.split('.'))[0]\n",
    "    temp.append(int(number))"
   ]
  },
  {
   "cell_type": "code",
   "execution_count": null,
   "id": "filled-subdivision",
   "metadata": {
    "scrolled": true
   },
   "outputs": [],
   "source": [
    "temp.sort(reverse=False)\n",
    "print(temp[-1])"
   ]
  },
  {
   "cell_type": "code",
   "execution_count": null,
   "id": "advanced-fluid",
   "metadata": {
    "scrolled": false
   },
   "outputs": [],
   "source": [
    "i=0;\n",
    "j=0;\n",
    "temp2=[]\n",
    "\n",
    "with open(\"leaked_file_list2.txt\", \"w\", encoding=\"utf8\") as file:\n",
    "    while i<2100000:\n",
    "        if i!=temp[j]:\n",
    "            temp2.append(i);\n",
    "            i=i+1;\n",
    "        else:\n",
    "            i=i+1;\n",
    "            j=j+1;\n",
    "\n",
    "    file.writelines(str(temp2))\n",
    "    file.close()"
   ]
  }
 ],
 "metadata": {
  "kernelspec": {
   "display_name": "Python 3",
   "language": "python",
   "name": "python3"
  },
  "language_info": {
   "codemirror_mode": {
    "name": "ipython",
    "version": 3
   },
   "file_extension": ".py",
   "mimetype": "text/x-python",
   "name": "python",
   "nbconvert_exporter": "python",
   "pygments_lexer": "ipython3",
   "version": "3.8.5"
  }
 },
 "nbformat": 4,
 "nbformat_minor": 5
}
