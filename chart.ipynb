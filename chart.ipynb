{
 "cells": [
  {
   "cell_type": "code",
   "execution_count": null,
   "id": "clean-combining",
   "metadata": {},
   "outputs": [],
   "source": [
    "import pymysql\n",
    "import matplotlib.pyplot as plt\n",
    "import numpy as np"
   ]
  },
  {
   "cell_type": "code",
   "execution_count": null,
   "id": "concrete-syndication",
   "metadata": {},
   "outputs": [],
   "source": [
    "conn = pymysql.connect(host='localhost',db='kiva',user='ajy0714',password='dkswnsdud@3767',charset='utf8')\n",
    "cursor = conn.cursor()\n",
    "sql = 'SELECT id, location_Country, postedDate FROM loans2 ORDER BY postedDate ASC'"
   ]
  },
  {
   "cell_type": "code",
   "execution_count": null,
   "id": "rough-sailing",
   "metadata": {},
   "outputs": [],
   "source": [
    "cursor.execute(sql)\n",
    "result = cursor.fetchall()"
   ]
  },
  {
   "cell_type": "code",
   "execution_count": null,
   "id": "bronze-creature",
   "metadata": {},
   "outputs": [],
   "source": [
    "temp=[]\n",
    "for data in result:\n",
    "    temp.append(data[2][0:7])"
   ]
  },
  {
   "cell_type": "code",
   "execution_count": null,
   "id": "infrared-utilization",
   "metadata": {},
   "outputs": [],
   "source": [
    "w_count ={}\n",
    "for lst in temp:\n",
    "    try: w_count[lst] += 1\n",
    "    except: w_count[lst]=1"
   ]
  },
  {
   "cell_type": "code",
   "execution_count": null,
   "id": "interracial-words",
   "metadata": {},
   "outputs": [],
   "source": [
    "del w_count['']"
   ]
  },
  {
   "cell_type": "code",
   "execution_count": null,
   "id": "changing-second",
   "metadata": {},
   "outputs": [],
   "source": [
    "print(w_count)"
   ]
  },
  {
   "cell_type": "code",
   "execution_count": null,
   "id": "every-closer",
   "metadata": {},
   "outputs": [],
   "source": [
    "w_count_keys=list(w_count.keys())\n",
    "w_count_values=list(w_count.values())"
   ]
  },
  {
   "cell_type": "code",
   "execution_count": null,
   "id": "suspected-street",
   "metadata": {
    "scrolled": false
   },
   "outputs": [],
   "source": [
    "x = np.arange(len(w_count_keys))\n",
    "plt.figure(figsize=(20,20))\n",
    "\n",
    "plt.bar(x, w_count_values)\n",
    "plt.xticks(x, w_count_keys)\n",
    "plt.show()"
   ]
  },
  {
   "cell_type": "code",
   "execution_count": null,
   "id": "charged-injection",
   "metadata": {},
   "outputs": [],
   "source": []
  }
 ],
 "metadata": {
  "kernelspec": {
   "display_name": "Python 3",
   "language": "python",
   "name": "python3"
  },
  "language_info": {
   "codemirror_mode": {
    "name": "ipython",
    "version": 3
   },
   "file_extension": ".py",
   "mimetype": "text/x-python",
   "name": "python",
   "nbconvert_exporter": "python",
   "pygments_lexer": "ipython3",
   "version": "3.8.5"
  }
 },
 "nbformat": 4,
 "nbformat_minor": 5
}
